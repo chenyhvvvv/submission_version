{
 "cells": [
  {
   "cell_type": "markdown",
   "source": [
    "# Cell Segmentation Competition"
   ],
   "metadata": {
    "collapsed": false
   }
  },
  {
   "cell_type": "markdown",
   "source": [
    "## Evaluation\n",
    "This evaluation part is highly based on the [SCS](https://doi.org/10.1038/s41592-023-01939-3) paper and the source code. We thank the authors for their great work."
   ],
   "metadata": {
    "collapsed": false
   }
  },
  {
   "cell_type": "markdown",
   "source": [
    "This notebook will show you how to evaluate the result. The evaluation metric is from [SCS](https://doi.org/10.1038/s41592-023-01939-3):\n",
    "\n",
    "We evaluate the performance of different methods by examining the transcriptional correlation between different regions of a segmentation mask. Specifically, for each nucleus detected using the staining, a target cell $c$ is assigned using our cell segmentation by selecting the cell with the largest overlap with the source nucleus. A similar approach is used to select $c^{\\prime}$ based on the cell segmentation of compared method. Gene expression profiles considering all the genes for three regions are computed: (1) the intersection between $c$ and $c^{\\prime}$, denoted $\\mathbf{x}_{\\text {int }}$, (2) the region covered by $c$ but not $c^{\\prime}$, denoted $\\mathbf{x}_c$, (3) and region covered by $c^{\\prime}$ but not $c$, denoted as $\\mathbf{x}_c^{\\prime}$. Then the Pearson linear correlation is used to measure the similarity of gene expression between $\\mathbf{x}_c$ and $\\mathbf{x}_{\\text {int }}$, as well as $\\mathbf{x}_c^{\\prime}$ and $\\mathbf{x}_{\\text {int }}$. The segmentation is said to be better if its difference region has a higher correlation with the intersection region.\n",
    "\n",
    "\n",
    "When evaluating the accuracy of two cell segmentation using the correlation, a low correlation can result from one region having only a few detected RNAs aggregated. For example, one cell mask is almost contained in another cell mask, the difference region for the first cell mask will be very small. To make fair comparisons, we considered only cell mask pairs that all the three regions (the intersection region and two difference regions) have at least 100 RNA molecules aggregated. This cell filtering step can be found in the [supplementary note 3](https://static-content.springer.com/esm/art%3A10.1038%2Fs41592-023-01939-3/MediaObjects/41592_2023_1939_MOESM1_ESM.pdf) of the SCS paper."
   ],
   "metadata": {
    "collapsed": false
   }
  },
  {
   "cell_type": "markdown",
   "source": [
    "For evaluation, the mapping from spot coordinates to cell indexes saved in a text file is needed.\n",
    "Each line has the following format:\n",
    "\n",
    "```row:column  cell_id```\n",
    "\n",
    "where `row:column` is the coordinate of one spot indicating which row and column the spot is located in from the upper left corner, and `cell_id` is the index of the cell to which the spot belongs.\n",
    "\n",
    "In most cases, your result is a 2D segmentation mask with different labels like the segementation result in `adata.layers['watershed_labels']` in [preprocess_demo.ipynb](preprocess_demo.ipynb). You can refer to the following code to postprocess your result to the standard format to evaluate and submit."
   ],
   "metadata": {
    "collapsed": false
   }
  },
  {
   "cell_type": "code",
   "execution_count": 2,
   "outputs": [],
   "source": [
    "import os\n",
    "import anndata as ad\n",
    "# Load annotated data saved in h5ad format\n",
    "startx = 0\n",
    "starty = 3600\n",
    "patch_size = 1200\n",
    "\n",
    "adatasub = ad.read_h5ad(os.path.join('./results', f'watershed_labels_{startx}:{starty}:{patch_size}:{patch_size}.h5ad'))\n",
    "nucl_labels = adatasub.layers['watershed_labels']\n",
    "\n",
    "# Transfer it to the standard outputs format\n",
    "fw = open(f'./results/spot2nucl_{startx}:{starty}:{patch_size}:{patch_size}.txt', 'w')\n",
    "for i in range(nucl_labels.shape[0]):\n",
    "    for j in range(nucl_labels.shape[1]):\n",
    "        if nucl_labels[i, j] > 0:\n",
    "            fw.write(str(i) + ':' + str(j) + '\\t' + str(nucl_labels[i, j]) + '\\n')\n",
    "fw.close()"
   ],
   "metadata": {
    "collapsed": false
   }
  },
  {
   "cell_type": "markdown",
   "source": [
    "### Example"
   ],
   "metadata": {
    "collapsed": false
   }
  },
  {
   "cell_type": "markdown",
   "source": [
    "Here we provide an example of how to evaluate the result. The example result is produced by SCS, saved in `seg/spot2cell_SCS_6000/9600/1200/1200.txt`. You can evaluate your result by replacing it with your own result."
   ],
   "metadata": {
    "collapsed": false
   }
  },
  {
   "cell_type": "markdown",
   "source": [
    "Run the following script for an example of comparing SCS segmentation with cellpose segmentation:\n",
    "```\n",
    "python evaluation.py gene/patch_tsv_6000:9600:1200:1200.tsv 0 0 1200 seg/spot2nucl_6000:9600:1200:1200.txt seg/spot2cell_SCS_6000:9600:1200:1200.txt seg/spot2cell_cellpose_6000:9600:1200:1200.txt\n",
    "```\n",
    "The script takes seven input:\n",
    "- (*i*) gene counts of spots,\n",
    "- (*ii*) row start index of the patch\n",
    "- (*iii*) column start index of the patch\n",
    "- (*iv*) patch size\n",
    "- (*v*) nucleus segmentation, *i.e.*, mapping from spots to nuclei\n",
    "- (*vi*) cell segmentation of method 1, *i.e.*, mapping from spots to cells、\n",
    "- (*vii*) cell segmentation of method 2, *i.e.*, mapping from spots to cells.\n",
    "\n",
    "The Pearson correlation statistics will be printed, and a boxplot summarizing the correlations will be saved in the `results` folder.\n"
   ],
   "metadata": {
    "collapsed": false
   }
  },
  {
   "cell_type": "markdown",
   "source": [
    "The output of the script contains:\n",
    "- Number of total gene numbers\n",
    "- Mean/Median of the Pearson correlation of the intersection region and the difference region of the two cell segmentations.\n",
    "- Krukal-Wallis test p-value of the Pearson correlation of the intersection region and the difference region of the two cell segmentations.\n",
    "- a boxplot showing the correlation of different methods. The x-axis is the method name, and the y-axis is the correlation. The correlation is calculated for each patch, and the boxplot shows the distribution of the correlation."
   ],
   "metadata": {
    "collapsed": false
   }
  },
  {
   "cell_type": "markdown",
   "source": [
    "Output example:\n",
    "```\n",
    "python evaluation.py gene/patch_tsv_6000:9600:1200:1200.tsv 0 0 1200 seg/spot2nucl_6000:9600:1200:1200.txt seg/spot2cell_SCS_6000:9600:1200:1200.txt seg/spot2cell_cellpose_6000:9600:1200:1200.txt\n",
    "\n",
    "total gene number: 18520\n",
    "mean corr_seg1: 0.5299815426873342 mean corr_seg2: 0.32186504433685376 median corr_seg1: 0.525147860930285 median corr_seg2: 0.2910778526066163\n",
    "Kruskal-Wallis H-test p-value: 9.272615211996793e-23, Sample num: 239\n",
    "```\n",
    "with a boxplot stored in `results` folder."
   ],
   "metadata": {
    "collapsed": false
   }
  },
  {
   "cell_type": "markdown",
   "source": [
    "Your final score will be the average of the Pearson correlation of all patches and of different published methods."
   ],
   "metadata": {
    "collapsed": false
   }
  }
 ],
 "metadata": {
  "kernelspec": {
   "display_name": "Python 3",
   "language": "python",
   "name": "python3"
  },
  "language_info": {
   "codemirror_mode": {
    "name": "ipython",
    "version": 2
   },
   "file_extension": ".py",
   "mimetype": "text/x-python",
   "name": "python",
   "nbconvert_exporter": "python",
   "pygments_lexer": "ipython2",
   "version": "2.7.6"
  }
 },
 "nbformat": 4,
 "nbformat_minor": 0
}
